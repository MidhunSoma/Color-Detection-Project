{
 "cells": [
  {
   "cell_type": "markdown",
   "id": "448af7f9",
   "metadata": {},
   "source": [
    "## Color Detection Project                   \n",
    "# Midhun Soma\n"
   ]
  },
  {
   "cell_type": "markdown",
   "id": "09d524f5",
   "metadata": {},
   "source": [
    "This notebook demonstrates a color detection project using OpenCV and pandas. Follow the steps below to complete the project."
   ]
  },
  {
   "cell_type": "markdown",
   "id": "d826061f",
   "metadata": {},
   "source": [
    "## Step 1: Import Required Libraries\n",
    "\n",
    "In this step, we import the necessary libraries for the project."
   ]
  },
  {
   "cell_type": "code",
   "execution_count": 20,
   "id": "67190c14",
   "metadata": {},
   "outputs": [],
   "source": [
    "# Importing required libraries\n",
    "import cv2\n",
    "import pandas as pd\n"
   ]
  },
  {
   "cell_type": "markdown",
   "id": "4dde37ee",
   "metadata": {},
   "source": [
    "## Step 2: Read the Color Data"
   ]
  },
  {
   "cell_type": "code",
   "execution_count": 21,
   "id": "ad12df7d",
   "metadata": {},
   "outputs": [],
   "source": [
    "# Reading the CSV file with color data\n",
    "csv_path = 'colors.csv'\n",
    "index = ['color', 'color_name', 'hex', 'R', 'G', 'B']\n",
    "df = pd.read_csv(csv_path, names=index, header=None)\n"
   ]
  },
  {
   "cell_type": "markdown",
   "id": "36de5420",
   "metadata": {},
   "source": [
    "## Step 3: Load and Resize the Image\n",
    "Specify the image path and resize it to fit the screen dimensions for better visualization."
   ]
  },
  {
   "cell_type": "code",
   "execution_count": 22,
   "id": "9b056e92",
   "metadata": {},
   "outputs": [],
   "source": [
    "# Reading and resizing the image\n",
    "img_path = 'pic2.jpg'  # Replace 'pic2.jpg' with the desired image file\n",
    "img = cv2.imread(img_path)\n",
    "img = cv2.resize(img, (800, 600))\n"
   ]
  },
  {
   "cell_type": "markdown",
   "id": "9a54b4fd",
   "metadata": {},
   "source": [
    "## Step 4: Declare Global Variables\n",
    "Initialize global variables to track the clicked position and the corresponding RGB values."
   ]
  },
  {
   "cell_type": "code",
   "execution_count": 23,
   "id": "55659670",
   "metadata": {},
   "outputs": [],
   "source": [
    "\n",
    "clicked = False\n",
    "r = g = b = xpos = ypos = 0\n"
   ]
  },
  {
   "cell_type": "markdown",
   "id": "2a201621",
   "metadata": {},
   "source": [
    "## Step 5: Define the Color Matching Function\n",
    "This function finds the closest matching color name based on the RGB values."
   ]
  },
  {
   "cell_type": "code",
   "execution_count": 24,
   "id": "5b5efdeb",
   "metadata": {},
   "outputs": [],
   "source": [
    "# Function to get the color name based on the closest RGB match\n",
    "def get_color_name(R, G, B):\n",
    "    minimum = 1000\n",
    "    cname = \"Unknown\"\n",
    "    for i in range(len(df)):\n",
    "        d = abs(R - int(df.loc[i, 'R'])) + abs(G - int(df.loc[i, 'G'])) + abs(B - int(df.loc[i, 'B']))\n",
    "        if d <= minimum:\n",
    "            minimum = d\n",
    "            cname = df.loc[i, 'color_name']\n",
    "    return cname\n"
   ]
  },
  {
   "cell_type": "markdown",
   "id": "e14a2338",
   "metadata": {},
   "source": [
    "## Step 6: Define the Mouse Callback Function\n",
    "This function handles mouse double-click events to capture the clicked position and the color values.\n"
   ]
  },
  {
   "cell_type": "code",
   "execution_count": 25,
   "id": "58cb760e",
   "metadata": {},
   "outputs": [],
   "source": [
    "# Function to handle mouse double-click events\n",
    "def draw_function(event, x, y, flags, params):\n",
    "    global b, g, r, xpos, ypos, clicked\n",
    "    if event == cv2.EVENT_LBUTTONDBLCLK:\n",
    "        clicked = True\n",
    "        xpos = x\n",
    "        ypos = y\n",
    "        b, g, r = img[y, x]\n",
    "        b = int(b)\n",
    "        g = int(g)\n",
    "        r = int(r)\n"
   ]
  },
  {
   "cell_type": "markdown",
   "id": "79bfb4a5",
   "metadata": {},
   "source": [
    "## Step 7: Set Up the OpenCV Window\n",
    "Create an OpenCV window and attach the mouse callback function to it.\n",
    "\n",
    "## Step 8: Display the Image and Handle Events\n",
    "\n",
    "Write the main loop to display the image, detect colors, and exit on pressing the `ESC` key."
   ]
  },
  {
   "cell_type": "code",
   "execution_count": 26,
   "id": "3dc451d1",
   "metadata": {},
   "outputs": [],
   "source": [
    "# Setting up the OpenCV window\n",
    "cv2.namedWindow('Image')\n",
    "cv2.setMouseCallback('Image', draw_function)\n",
    "# Display the image and interact\n",
    "while True:\n",
    "    cv2.imshow('Image', img)\n",
    "    if clicked:\n",
    "        # Draw a rectangle filled with the detected color\n",
    "        cv2.rectangle(img, (20, 20), (750, 60), (b, g, r), -1)\n",
    "        \n",
    "        # Text to display the color name and RGB values\n",
    "        text = get_color_name(r, g, b) + ' R=' + str(r) + ' G=' + str(g) + ' B=' + str(b)\n",
    "        cv2.putText(img, text, (50, 50), cv2.FONT_HERSHEY_SIMPLEX, 0.8, (255, 255, 255), 2, cv2.LINE_AA)\n",
    "        \n",
    "        # Change text color to black for very light colors\n",
    "        if r + g + b >= 600:\n",
    "            cv2.putText(img, text, (50, 50), cv2.FONT_HERSHEY_SIMPLEX, 0.8, (0, 0, 0), 2, cv2.LINE_AA)\n",
    "    \n",
    "    # Break the loop when the user presses the ESC key\n",
    "    if cv2.waitKey(20) & 0xFF == 27:\n",
    "        break\n",
    "\n",
    "cv2.destroyAllWindows()\n",
    "\n"
   ]
  },
  {
   "cell_type": "code",
   "execution_count": null,
   "id": "4a5766e9",
   "metadata": {},
   "outputs": [],
   "source": []
  },
  {
   "cell_type": "code",
   "execution_count": null,
   "id": "1cb4344b",
   "metadata": {},
   "outputs": [],
   "source": []
  }
 ],
 "metadata": {
  "kernelspec": {
   "display_name": "Python 3 (ipykernel)",
   "language": "python",
   "name": "python3"
  },
  "language_info": {
   "codemirror_mode": {
    "name": "ipython",
    "version": 3
   },
   "file_extension": ".py",
   "mimetype": "text/x-python",
   "name": "python",
   "nbconvert_exporter": "python",
   "pygments_lexer": "ipython3",
   "version": "3.11.4"
  }
 },
 "nbformat": 4,
 "nbformat_minor": 5
}
